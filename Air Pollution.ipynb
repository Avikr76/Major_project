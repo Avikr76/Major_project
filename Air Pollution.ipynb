{
 "cells": [
  {
   "cell_type": "code",
   "execution_count": 127,
   "metadata": {},
   "outputs": [],
   "source": [
    "import pandas as pd\n",
    "import numpy  as np"
   ]
  },
  {
   "cell_type": "code",
   "execution_count": 128,
   "metadata": {},
   "outputs": [],
   "source": [
    "train_df = pd.read_excel('mysore_city_data.xlsx')"
   ]
  },
  {
   "cell_type": "code",
   "execution_count": 129,
   "metadata": {
    "scrolled": true
   },
   "outputs": [
    {
     "data": {
      "text/html": [
       "<div>\n",
       "<style scoped>\n",
       "    .dataframe tbody tr th:only-of-type {\n",
       "        vertical-align: middle;\n",
       "    }\n",
       "\n",
       "    .dataframe tbody tr th {\n",
       "        vertical-align: top;\n",
       "    }\n",
       "\n",
       "    .dataframe thead th {\n",
       "        text-align: right;\n",
       "    }\n",
       "</style>\n",
       "<table border=\"1\" class=\"dataframe\">\n",
       "  <thead>\n",
       "    <tr style=\"text-align: right;\">\n",
       "      <th></th>\n",
       "      <th>Temperature</th>\n",
       "      <th>Humidity</th>\n",
       "      <th>Gas</th>\n",
       "      <th>CO</th>\n",
       "      <th>NH3</th>\n",
       "      <th>Date</th>\n",
       "      <th>PM 2.5 (ug/m3)</th>\n",
       "      <th>PM10</th>\n",
       "    </tr>\n",
       "  </thead>\n",
       "  <tbody>\n",
       "    <tr>\n",
       "      <td>0</td>\n",
       "      <td>31.0</td>\n",
       "      <td>64.0</td>\n",
       "      <td>45.000000</td>\n",
       "      <td>0.340000</td>\n",
       "      <td>47.0</td>\n",
       "      <td>2022-06-16</td>\n",
       "      <td>5.000000</td>\n",
       "      <td>3</td>\n",
       "    </tr>\n",
       "    <tr>\n",
       "      <td>1</td>\n",
       "      <td>31.0</td>\n",
       "      <td>63.0</td>\n",
       "      <td>48.000000</td>\n",
       "      <td>0.590000</td>\n",
       "      <td>28.0</td>\n",
       "      <td>2022-06-16</td>\n",
       "      <td>5.000000</td>\n",
       "      <td>3</td>\n",
       "    </tr>\n",
       "    <tr>\n",
       "      <td>2</td>\n",
       "      <td>31.0</td>\n",
       "      <td>63.0</td>\n",
       "      <td>58.000000</td>\n",
       "      <td>0.340000</td>\n",
       "      <td>29.0</td>\n",
       "      <td>2022-06-16</td>\n",
       "      <td>5.000000</td>\n",
       "      <td>3</td>\n",
       "    </tr>\n",
       "    <tr>\n",
       "      <td>3</td>\n",
       "      <td>31.0</td>\n",
       "      <td>63.0</td>\n",
       "      <td>48.000000</td>\n",
       "      <td>0.680000</td>\n",
       "      <td>31.0</td>\n",
       "      <td>2022-06-16</td>\n",
       "      <td>7.000000</td>\n",
       "      <td>4</td>\n",
       "    </tr>\n",
       "    <tr>\n",
       "      <td>4</td>\n",
       "      <td>31.0</td>\n",
       "      <td>63.0</td>\n",
       "      <td>42.000000</td>\n",
       "      <td>0.320000</td>\n",
       "      <td>26.0</td>\n",
       "      <td>2022-06-16</td>\n",
       "      <td>7.000000</td>\n",
       "      <td>4</td>\n",
       "    </tr>\n",
       "    <tr>\n",
       "      <td>...</td>\n",
       "      <td>...</td>\n",
       "      <td>...</td>\n",
       "      <td>...</td>\n",
       "      <td>...</td>\n",
       "      <td>...</td>\n",
       "      <td>...</td>\n",
       "      <td>...</td>\n",
       "      <td>...</td>\n",
       "    </tr>\n",
       "    <tr>\n",
       "      <td>4529</td>\n",
       "      <td>30.0</td>\n",
       "      <td>64.0</td>\n",
       "      <td>38.000000</td>\n",
       "      <td>0.530000</td>\n",
       "      <td>18.0</td>\n",
       "      <td>2022-06-17</td>\n",
       "      <td>13.000000</td>\n",
       "      <td>10</td>\n",
       "    </tr>\n",
       "    <tr>\n",
       "      <td>4530</td>\n",
       "      <td>30.0</td>\n",
       "      <td>64.0</td>\n",
       "      <td>42.000000</td>\n",
       "      <td>0.290000</td>\n",
       "      <td>37.0</td>\n",
       "      <td>2022-06-17</td>\n",
       "      <td>13.000000</td>\n",
       "      <td>10</td>\n",
       "    </tr>\n",
       "    <tr>\n",
       "      <td>4531</td>\n",
       "      <td>30.0</td>\n",
       "      <td>64.0</td>\n",
       "      <td>53.000000</td>\n",
       "      <td>0.220000</td>\n",
       "      <td>26.0</td>\n",
       "      <td>2022-06-17</td>\n",
       "      <td>13.000000</td>\n",
       "      <td>10</td>\n",
       "    </tr>\n",
       "    <tr>\n",
       "      <td>4532</td>\n",
       "      <td>30.0</td>\n",
       "      <td>64.0</td>\n",
       "      <td>49.000000</td>\n",
       "      <td>0.280000</td>\n",
       "      <td>37.0</td>\n",
       "      <td>2022-06-17</td>\n",
       "      <td>13.000000</td>\n",
       "      <td>10</td>\n",
       "    </tr>\n",
       "    <tr>\n",
       "      <td>4533</td>\n",
       "      <td>30.0</td>\n",
       "      <td>64.0</td>\n",
       "      <td>46.306294</td>\n",
       "      <td>0.444436</td>\n",
       "      <td>37.0</td>\n",
       "      <td>2022-06-17</td>\n",
       "      <td>22.536731</td>\n",
       "      <td>10</td>\n",
       "    </tr>\n",
       "  </tbody>\n",
       "</table>\n",
       "<p>4534 rows × 8 columns</p>\n",
       "</div>"
      ],
      "text/plain": [
       "      Temperature  Humidity        Gas        CO   NH3       Date  \\\n",
       "0            31.0      64.0  45.000000  0.340000  47.0 2022-06-16   \n",
       "1            31.0      63.0  48.000000  0.590000  28.0 2022-06-16   \n",
       "2            31.0      63.0  58.000000  0.340000  29.0 2022-06-16   \n",
       "3            31.0      63.0  48.000000  0.680000  31.0 2022-06-16   \n",
       "4            31.0      63.0  42.000000  0.320000  26.0 2022-06-16   \n",
       "...           ...       ...        ...       ...   ...        ...   \n",
       "4529         30.0      64.0  38.000000  0.530000  18.0 2022-06-17   \n",
       "4530         30.0      64.0  42.000000  0.290000  37.0 2022-06-17   \n",
       "4531         30.0      64.0  53.000000  0.220000  26.0 2022-06-17   \n",
       "4532         30.0      64.0  49.000000  0.280000  37.0 2022-06-17   \n",
       "4533         30.0      64.0  46.306294  0.444436  37.0 2022-06-17   \n",
       "\n",
       "      PM 2.5 (ug/m3)  PM10  \n",
       "0           5.000000     3  \n",
       "1           5.000000     3  \n",
       "2           5.000000     3  \n",
       "3           7.000000     4  \n",
       "4           7.000000     4  \n",
       "...              ...   ...  \n",
       "4529       13.000000    10  \n",
       "4530       13.000000    10  \n",
       "4531       13.000000    10  \n",
       "4532       13.000000    10  \n",
       "4533       22.536731    10  \n",
       "\n",
       "[4534 rows x 8 columns]"
      ]
     },
     "execution_count": 129,
     "metadata": {},
     "output_type": "execute_result"
    }
   ],
   "source": [
    "train_df"
   ]
  },
  {
   "cell_type": "code",
   "execution_count": 130,
   "metadata": {},
   "outputs": [
    {
     "name": "stdout",
     "output_type": "stream",
     "text": [
      "<class 'pandas.core.frame.DataFrame'>\n",
      "RangeIndex: 4534 entries, 0 to 4533\n",
      "Data columns (total 8 columns):\n",
      "Temperature       4528 non-null float64\n",
      "Humidity          4528 non-null float64\n",
      "Gas               4528 non-null float64\n",
      "CO                4528 non-null float64\n",
      "NH3               4528 non-null float64\n",
      "Date              4534 non-null datetime64[ns]\n",
      "PM 2.5 (ug/m3)    4534 non-null float64\n",
      "PM10              4534 non-null int64\n",
      "dtypes: datetime64[ns](1), float64(6), int64(1)\n",
      "memory usage: 283.5 KB\n"
     ]
    }
   ],
   "source": [
    "train_df.info()"
   ]
  },
  {
   "cell_type": "code",
   "execution_count": 131,
   "metadata": {},
   "outputs": [
    {
     "data": {
      "text/plain": [
       "Temperature       6\n",
       "Humidity          6\n",
       "Gas               6\n",
       "CO                6\n",
       "NH3               6\n",
       "Date              0\n",
       "PM 2.5 (ug/m3)    0\n",
       "PM10              0\n",
       "dtype: int64"
      ]
     },
     "execution_count": 131,
     "metadata": {},
     "output_type": "execute_result"
    }
   ],
   "source": [
    "train_df.isnull().sum()"
   ]
  },
  {
   "cell_type": "code",
   "execution_count": 132,
   "metadata": {},
   "outputs": [],
   "source": [
    "#train_df['PM2.5'].fillna(np.mean(train_df['PM2.5']),inplace=True)\n",
    "#train_df['PM10'].fillna(np.mean(train_df['PM10']),inplace=True)\n",
    "#train_df['NO'].fillna(np.mean(train_df['NO']),inplace=True)\n",
    "#train_df['NO2'].fillna(np.mean(train_df['NO2']),inplace=True)\n",
    "#train_df['NOx'].fillna(np.mean(train_df['NOx']),inplace=True)\n",
    "train_df['NH3'].fillna(np.mean(train_df['NH3']),inplace=True)\n",
    "train_df['CO'].fillna(np.mean(train_df['CO']),inplace=True)\n",
    "#train_df['SO2'].fillna(np.mean(train_df['SO2']),inplace=True)\n",
    "#train_df['O3'].fillna(np.mean(train_df['O3']),inplace=True)\n",
    "#train_df['Benzene'].fillna(np.mean(train_df['Benzene']),inplace=True)\n",
    "#train_df['Toluene'].fillna(np.mean(train_df['Toluene']),inplace=True)\n",
    "#train_df['Xylene'].fillna(np.mean(train_df['Xylene']),inplace=True)\n",
    "#train_df['AQI'].fillna(np.mean(train_df['AQI']),inplace=True)\n",
    "train_df['Temperature'].fillna(np.mean(train_df['Temperature']),inplace=True)\n",
    "train_df['Humidity'].fillna(np.mean(train_df['Humidity']),inplace=True)\n",
    "train_df['Gas'].fillna(np.mean(train_df['Gas']),inplace=True)"
   ]
  },
  {
   "cell_type": "code",
   "execution_count": 133,
   "metadata": {},
   "outputs": [],
   "source": [
    "train_df['day']=pd.to_datetime(train_df.Date,format=\"%d-%m-%Y\").dt.day\n",
    "train_df['month']=pd.to_datetime(train_df.Date,format=\"%d-%m-%Y\").dt.month\n",
    "train_df['year']=pd.to_datetime(train_df.Date,format=\"%d-%m-%Y\").dt.year"
   ]
  },
  {
   "cell_type": "code",
   "execution_count": 134,
   "metadata": {},
   "outputs": [],
   "source": [
    "train_df.drop(['Date'],axis=1,inplace=True)"
   ]
  },
  {
   "cell_type": "code",
   "execution_count": 135,
   "metadata": {},
   "outputs": [],
   "source": [
    "train_df=train_df.round(decimals=3)"
   ]
  },
  {
   "cell_type": "code",
   "execution_count": 136,
   "metadata": {},
   "outputs": [
    {
     "data": {
      "text/html": [
       "<div>\n",
       "<style scoped>\n",
       "    .dataframe tbody tr th:only-of-type {\n",
       "        vertical-align: middle;\n",
       "    }\n",
       "\n",
       "    .dataframe tbody tr th {\n",
       "        vertical-align: top;\n",
       "    }\n",
       "\n",
       "    .dataframe thead th {\n",
       "        text-align: right;\n",
       "    }\n",
       "</style>\n",
       "<table border=\"1\" class=\"dataframe\">\n",
       "  <thead>\n",
       "    <tr style=\"text-align: right;\">\n",
       "      <th></th>\n",
       "      <th>Temperature</th>\n",
       "      <th>Humidity</th>\n",
       "      <th>Gas</th>\n",
       "      <th>CO</th>\n",
       "      <th>NH3</th>\n",
       "      <th>PM 2.5 (ug/m3)</th>\n",
       "      <th>PM10</th>\n",
       "      <th>day</th>\n",
       "      <th>month</th>\n",
       "      <th>year</th>\n",
       "    </tr>\n",
       "  </thead>\n",
       "  <tbody>\n",
       "    <tr>\n",
       "      <td>0</td>\n",
       "      <td>31.0</td>\n",
       "      <td>64.0</td>\n",
       "      <td>45.000</td>\n",
       "      <td>0.340</td>\n",
       "      <td>47.0</td>\n",
       "      <td>5.000</td>\n",
       "      <td>3</td>\n",
       "      <td>16</td>\n",
       "      <td>6</td>\n",
       "      <td>2022</td>\n",
       "    </tr>\n",
       "    <tr>\n",
       "      <td>1</td>\n",
       "      <td>31.0</td>\n",
       "      <td>63.0</td>\n",
       "      <td>48.000</td>\n",
       "      <td>0.590</td>\n",
       "      <td>28.0</td>\n",
       "      <td>5.000</td>\n",
       "      <td>3</td>\n",
       "      <td>16</td>\n",
       "      <td>6</td>\n",
       "      <td>2022</td>\n",
       "    </tr>\n",
       "    <tr>\n",
       "      <td>2</td>\n",
       "      <td>31.0</td>\n",
       "      <td>63.0</td>\n",
       "      <td>58.000</td>\n",
       "      <td>0.340</td>\n",
       "      <td>29.0</td>\n",
       "      <td>5.000</td>\n",
       "      <td>3</td>\n",
       "      <td>16</td>\n",
       "      <td>6</td>\n",
       "      <td>2022</td>\n",
       "    </tr>\n",
       "    <tr>\n",
       "      <td>3</td>\n",
       "      <td>31.0</td>\n",
       "      <td>63.0</td>\n",
       "      <td>48.000</td>\n",
       "      <td>0.680</td>\n",
       "      <td>31.0</td>\n",
       "      <td>7.000</td>\n",
       "      <td>4</td>\n",
       "      <td>16</td>\n",
       "      <td>6</td>\n",
       "      <td>2022</td>\n",
       "    </tr>\n",
       "    <tr>\n",
       "      <td>4</td>\n",
       "      <td>31.0</td>\n",
       "      <td>63.0</td>\n",
       "      <td>42.000</td>\n",
       "      <td>0.320</td>\n",
       "      <td>26.0</td>\n",
       "      <td>7.000</td>\n",
       "      <td>4</td>\n",
       "      <td>16</td>\n",
       "      <td>6</td>\n",
       "      <td>2022</td>\n",
       "    </tr>\n",
       "    <tr>\n",
       "      <td>...</td>\n",
       "      <td>...</td>\n",
       "      <td>...</td>\n",
       "      <td>...</td>\n",
       "      <td>...</td>\n",
       "      <td>...</td>\n",
       "      <td>...</td>\n",
       "      <td>...</td>\n",
       "      <td>...</td>\n",
       "      <td>...</td>\n",
       "      <td>...</td>\n",
       "    </tr>\n",
       "    <tr>\n",
       "      <td>4529</td>\n",
       "      <td>30.0</td>\n",
       "      <td>64.0</td>\n",
       "      <td>38.000</td>\n",
       "      <td>0.530</td>\n",
       "      <td>18.0</td>\n",
       "      <td>13.000</td>\n",
       "      <td>10</td>\n",
       "      <td>17</td>\n",
       "      <td>6</td>\n",
       "      <td>2022</td>\n",
       "    </tr>\n",
       "    <tr>\n",
       "      <td>4530</td>\n",
       "      <td>30.0</td>\n",
       "      <td>64.0</td>\n",
       "      <td>42.000</td>\n",
       "      <td>0.290</td>\n",
       "      <td>37.0</td>\n",
       "      <td>13.000</td>\n",
       "      <td>10</td>\n",
       "      <td>17</td>\n",
       "      <td>6</td>\n",
       "      <td>2022</td>\n",
       "    </tr>\n",
       "    <tr>\n",
       "      <td>4531</td>\n",
       "      <td>30.0</td>\n",
       "      <td>64.0</td>\n",
       "      <td>53.000</td>\n",
       "      <td>0.220</td>\n",
       "      <td>26.0</td>\n",
       "      <td>13.000</td>\n",
       "      <td>10</td>\n",
       "      <td>17</td>\n",
       "      <td>6</td>\n",
       "      <td>2022</td>\n",
       "    </tr>\n",
       "    <tr>\n",
       "      <td>4532</td>\n",
       "      <td>30.0</td>\n",
       "      <td>64.0</td>\n",
       "      <td>49.000</td>\n",
       "      <td>0.280</td>\n",
       "      <td>37.0</td>\n",
       "      <td>13.000</td>\n",
       "      <td>10</td>\n",
       "      <td>17</td>\n",
       "      <td>6</td>\n",
       "      <td>2022</td>\n",
       "    </tr>\n",
       "    <tr>\n",
       "      <td>4533</td>\n",
       "      <td>30.0</td>\n",
       "      <td>64.0</td>\n",
       "      <td>46.306</td>\n",
       "      <td>0.444</td>\n",
       "      <td>37.0</td>\n",
       "      <td>22.537</td>\n",
       "      <td>10</td>\n",
       "      <td>17</td>\n",
       "      <td>6</td>\n",
       "      <td>2022</td>\n",
       "    </tr>\n",
       "  </tbody>\n",
       "</table>\n",
       "<p>4534 rows × 10 columns</p>\n",
       "</div>"
      ],
      "text/plain": [
       "      Temperature  Humidity     Gas     CO   NH3  PM 2.5 (ug/m3)  PM10  day  \\\n",
       "0            31.0      64.0  45.000  0.340  47.0           5.000     3   16   \n",
       "1            31.0      63.0  48.000  0.590  28.0           5.000     3   16   \n",
       "2            31.0      63.0  58.000  0.340  29.0           5.000     3   16   \n",
       "3            31.0      63.0  48.000  0.680  31.0           7.000     4   16   \n",
       "4            31.0      63.0  42.000  0.320  26.0           7.000     4   16   \n",
       "...           ...       ...     ...    ...   ...             ...   ...  ...   \n",
       "4529         30.0      64.0  38.000  0.530  18.0          13.000    10   17   \n",
       "4530         30.0      64.0  42.000  0.290  37.0          13.000    10   17   \n",
       "4531         30.0      64.0  53.000  0.220  26.0          13.000    10   17   \n",
       "4532         30.0      64.0  49.000  0.280  37.0          13.000    10   17   \n",
       "4533         30.0      64.0  46.306  0.444  37.0          22.537    10   17   \n",
       "\n",
       "      month  year  \n",
       "0         6  2022  \n",
       "1         6  2022  \n",
       "2         6  2022  \n",
       "3         6  2022  \n",
       "4         6  2022  \n",
       "...     ...   ...  \n",
       "4529      6  2022  \n",
       "4530      6  2022  \n",
       "4531      6  2022  \n",
       "4532      6  2022  \n",
       "4533      6  2022  \n",
       "\n",
       "[4534 rows x 10 columns]"
      ]
     },
     "execution_count": 136,
     "metadata": {},
     "output_type": "execute_result"
    }
   ],
   "source": [
    "train_df"
   ]
  },
  {
   "cell_type": "code",
   "execution_count": 137,
   "metadata": {},
   "outputs": [
    {
     "data": {
      "text/plain": [
       "Index(['Temperature', 'Humidity', 'Gas', 'CO', 'NH3', 'PM 2.5 (ug/m3)', 'PM10',\n",
       "       'day', 'month', 'year'],\n",
       "      dtype='object')"
      ]
     },
     "execution_count": 137,
     "metadata": {},
     "output_type": "execute_result"
    }
   ],
   "source": [
    "train_df.columns"
   ]
  },
  {
   "cell_type": "code",
   "execution_count": 138,
   "metadata": {},
   "outputs": [],
   "source": [
    "X = train_df[[ 'Temperature', 'Humidity', 'Gas', 'CO', 'NH3','day','month', 'year']]\n",
    "y = train_df['PM 2.5 (ug/m3)']"
   ]
  },
  {
   "cell_type": "code",
   "execution_count": 139,
   "metadata": {},
   "outputs": [
    {
     "data": {
      "text/plain": [
       "(      Temperature  Humidity     Gas     CO   NH3  day  month  year\n",
       " 0            31.0      64.0  45.000  0.340  47.0   16      6  2022\n",
       " 1            31.0      63.0  48.000  0.590  28.0   16      6  2022\n",
       " 2            31.0      63.0  58.000  0.340  29.0   16      6  2022\n",
       " 3            31.0      63.0  48.000  0.680  31.0   16      6  2022\n",
       " 4            31.0      63.0  42.000  0.320  26.0   16      6  2022\n",
       " ...           ...       ...     ...    ...   ...  ...    ...   ...\n",
       " 4529         30.0      64.0  38.000  0.530  18.0   17      6  2022\n",
       " 4530         30.0      64.0  42.000  0.290  37.0   17      6  2022\n",
       " 4531         30.0      64.0  53.000  0.220  26.0   17      6  2022\n",
       " 4532         30.0      64.0  49.000  0.280  37.0   17      6  2022\n",
       " 4533         30.0      64.0  46.306  0.444  37.0   17      6  2022\n",
       " \n",
       " [4534 rows x 8 columns], 0        5.000\n",
       " 1        5.000\n",
       " 2        5.000\n",
       " 3        7.000\n",
       " 4        7.000\n",
       "          ...  \n",
       " 4529    13.000\n",
       " 4530    13.000\n",
       " 4531    13.000\n",
       " 4532    13.000\n",
       " 4533    22.537\n",
       " Name: PM 2.5 (ug/m3), Length: 4534, dtype: float64)"
      ]
     },
     "execution_count": 139,
     "metadata": {},
     "output_type": "execute_result"
    }
   ],
   "source": [
    "X,y"
   ]
  },
  {
   "cell_type": "code",
   "execution_count": 140,
   "metadata": {},
   "outputs": [],
   "source": [
    "from sklearn.model_selection import train_test_split\n",
    "X_train, X_test, y_train, y_test = train_test_split(X, y, test_size=0.35, random_state=0)"
   ]
  },
  {
   "cell_type": "code",
   "execution_count": 141,
   "metadata": {},
   "outputs": [
    {
     "data": {
      "text/plain": [
       "RandomForestRegressor(bootstrap=True, criterion='mse', max_depth=None,\n",
       "           max_features='auto', max_leaf_nodes=None,\n",
       "           min_impurity_decrease=0.0, min_impurity_split=None,\n",
       "           min_samples_leaf=1, min_samples_split=2,\n",
       "           min_weight_fraction_leaf=0.0, n_estimators=150, n_jobs=None,\n",
       "           oob_score=False, random_state=0, verbose=0, warm_start=False)"
      ]
     },
     "execution_count": 141,
     "metadata": {},
     "output_type": "execute_result"
    }
   ],
   "source": [
    "from sklearn.ensemble import RandomForestRegressor\n",
    "rfc = RandomForestRegressor(n_estimators = 150,random_state = 0)\n",
    "rfc.fit(X_train, y_train)"
   ]
  },
  {
   "cell_type": "code",
   "execution_count": 142,
   "metadata": {},
   "outputs": [
    {
     "name": "stdout",
     "output_type": "stream",
     "text": [
      "0.251167225696046\n",
      "15.230376290913593\n"
     ]
    }
   ],
   "source": [
    "import math\n",
    "y_pred = rfc.predict(X_test)\n",
    "y_pred=y_pred.round(decimals=3)\n",
    "from sklearn.metrics import r2_score,mean_squared_error\n",
    "print(r2_score(y_test,y_pred))\n",
    "print(math.sqrt(mean_squared_error(np.array(y_test),y_pred)))"
   ]
  },
  {
   "cell_type": "code",
   "execution_count": 143,
   "metadata": {},
   "outputs": [
    {
     "data": {
      "text/plain": [
       "array([32., 36., 20., ..., 13., 22., 15.])"
      ]
     },
     "execution_count": 143,
     "metadata": {},
     "output_type": "execute_result"
    }
   ],
   "source": [
    "np.array(y_test)"
   ]
  },
  {
   "cell_type": "code",
   "execution_count": 144,
   "metadata": {},
   "outputs": [
    {
     "name": "stdout",
     "output_type": "stream",
     "text": [
      "[26.876 27.777 28.106 ... 15.413 26.46  14.238]\n"
     ]
    }
   ],
   "source": [
    "print(y_pred)"
   ]
  },
  {
   "cell_type": "code",
   "execution_count": 145,
   "metadata": {},
   "outputs": [],
   "source": [
    "def air_condition(pm_conc):\n",
    "    if pm_conc<=12.0:\n",
    "        print(\"AQI level is Between 0 to 50\")\n",
    "        print(\"Good Weather Conditions\")\n",
    "    elif pm_conc>12.1 and pm_conc<=35.4:\n",
    "        print(\"AQI level is Between 51 to 100\")\n",
    "        print(\"Moderate Weather Conditions\")\n",
    "    elif pm_conc>35.5 and pm_conc<=55.4:\n",
    "        print(\"AQI level is Between 101 to 150\")\n",
    "        print(\"Unhealthy Weather Conditions for Older Age Groups\")\n",
    "    elif pm_conc>55.5 and pm_conc<=150.4:\n",
    "        print(\"AQI level is Between 151 to 200\")\n",
    "        print(\"Unhealthy Weather Conditions\")\n",
    "    elif pm_conc>150.5 and pm_conc<=250.4:\n",
    "        print(\"AQI level is Between 201 to 300\")\n",
    "        print(\"Very Unhealthy Weather Conditions\")\n",
    "    else:\n",
    "        print(\"AQI level is Above 300\")\n",
    "        print(\"Hazardous Weather Conditions\")"
   ]
  },
  {
   "cell_type": "code",
   "execution_count": null,
   "metadata": {},
   "outputs": [],
   "source": []
  }
 ],
 "metadata": {
  "kernelspec": {
   "display_name": "Python 3",
   "language": "python",
   "name": "python3"
  },
  "language_info": {
   "codemirror_mode": {
    "name": "ipython",
    "version": 3
   },
   "file_extension": ".py",
   "mimetype": "text/x-python",
   "name": "python",
   "nbconvert_exporter": "python",
   "pygments_lexer": "ipython3",
   "version": "3.7.1"
  }
 },
 "nbformat": 4,
 "nbformat_minor": 2
}
