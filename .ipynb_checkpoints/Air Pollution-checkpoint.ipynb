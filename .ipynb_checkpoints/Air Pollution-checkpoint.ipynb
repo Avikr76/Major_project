{
 "cells": [
  {
   "cell_type": "code",
   "execution_count": 97,
   "metadata": {},
   "outputs": [],
   "source": [
    "import pandas as pd\n",
    "import numpy  as np"
   ]
  },
  {
   "cell_type": "code",
   "execution_count": 98,
   "metadata": {},
   "outputs": [],
   "source": [
    "train_df = pd.read_csv('mysore_data.csv')"
   ]
  },
  {
   "cell_type": "code",
   "execution_count": 99,
   "metadata": {
    "scrolled": true
   },
   "outputs": [
    {
     "data": {
      "text/html": [
       "<div>\n",
       "<style scoped>\n",
       "    .dataframe tbody tr th:only-of-type {\n",
       "        vertical-align: middle;\n",
       "    }\n",
       "\n",
       "    .dataframe tbody tr th {\n",
       "        vertical-align: top;\n",
       "    }\n",
       "\n",
       "    .dataframe thead th {\n",
       "        text-align: right;\n",
       "    }\n",
       "</style>\n",
       "<table border=\"1\" class=\"dataframe\">\n",
       "  <thead>\n",
       "    <tr style=\"text-align: right;\">\n",
       "      <th></th>\n",
       "      <th>Temperature</th>\n",
       "      <th>Humidity</th>\n",
       "      <th>Gas</th>\n",
       "      <th>CO</th>\n",
       "      <th>NH3</th>\n",
       "      <th>Date</th>\n",
       "      <th>PM 2.5 (ug/m3)</th>\n",
       "    </tr>\n",
       "  </thead>\n",
       "  <tbody>\n",
       "    <tr>\n",
       "      <td>0</td>\n",
       "      <td>31.0</td>\n",
       "      <td>64.0</td>\n",
       "      <td>45.0</td>\n",
       "      <td>0.34</td>\n",
       "      <td>47.0</td>\n",
       "      <td>2022-06-16</td>\n",
       "      <td>5</td>\n",
       "    </tr>\n",
       "    <tr>\n",
       "      <td>1</td>\n",
       "      <td>31.0</td>\n",
       "      <td>63.0</td>\n",
       "      <td>48.0</td>\n",
       "      <td>0.59</td>\n",
       "      <td>28.0</td>\n",
       "      <td>2022-06-16</td>\n",
       "      <td>5</td>\n",
       "    </tr>\n",
       "    <tr>\n",
       "      <td>2</td>\n",
       "      <td>31.0</td>\n",
       "      <td>63.0</td>\n",
       "      <td>58.0</td>\n",
       "      <td>0.34</td>\n",
       "      <td>29.0</td>\n",
       "      <td>2022-06-16</td>\n",
       "      <td>5</td>\n",
       "    </tr>\n",
       "    <tr>\n",
       "      <td>3</td>\n",
       "      <td>31.0</td>\n",
       "      <td>63.0</td>\n",
       "      <td>48.0</td>\n",
       "      <td>0.68</td>\n",
       "      <td>31.0</td>\n",
       "      <td>2022-06-16</td>\n",
       "      <td>7</td>\n",
       "    </tr>\n",
       "    <tr>\n",
       "      <td>4</td>\n",
       "      <td>31.0</td>\n",
       "      <td>63.0</td>\n",
       "      <td>42.0</td>\n",
       "      <td>0.32</td>\n",
       "      <td>26.0</td>\n",
       "      <td>2022-06-16</td>\n",
       "      <td>7</td>\n",
       "    </tr>\n",
       "    <tr>\n",
       "      <td>...</td>\n",
       "      <td>...</td>\n",
       "      <td>...</td>\n",
       "      <td>...</td>\n",
       "      <td>...</td>\n",
       "      <td>...</td>\n",
       "      <td>...</td>\n",
       "      <td>...</td>\n",
       "    </tr>\n",
       "    <tr>\n",
       "      <td>4528</td>\n",
       "      <td>30.0</td>\n",
       "      <td>64.0</td>\n",
       "      <td>37.0</td>\n",
       "      <td>0.61</td>\n",
       "      <td>33.0</td>\n",
       "      <td>2022-06-17</td>\n",
       "      <td>13</td>\n",
       "    </tr>\n",
       "    <tr>\n",
       "      <td>4529</td>\n",
       "      <td>30.0</td>\n",
       "      <td>64.0</td>\n",
       "      <td>38.0</td>\n",
       "      <td>0.53</td>\n",
       "      <td>18.0</td>\n",
       "      <td>2022-06-17</td>\n",
       "      <td>13</td>\n",
       "    </tr>\n",
       "    <tr>\n",
       "      <td>4530</td>\n",
       "      <td>30.0</td>\n",
       "      <td>64.0</td>\n",
       "      <td>42.0</td>\n",
       "      <td>0.29</td>\n",
       "      <td>37.0</td>\n",
       "      <td>2022-06-17</td>\n",
       "      <td>13</td>\n",
       "    </tr>\n",
       "    <tr>\n",
       "      <td>4531</td>\n",
       "      <td>30.0</td>\n",
       "      <td>64.0</td>\n",
       "      <td>53.0</td>\n",
       "      <td>0.22</td>\n",
       "      <td>26.0</td>\n",
       "      <td>2022-06-17</td>\n",
       "      <td>13</td>\n",
       "    </tr>\n",
       "    <tr>\n",
       "      <td>4532</td>\n",
       "      <td>30.0</td>\n",
       "      <td>64.0</td>\n",
       "      <td>49.0</td>\n",
       "      <td>0.28</td>\n",
       "      <td>37.0</td>\n",
       "      <td>2022-06-17</td>\n",
       "      <td>13</td>\n",
       "    </tr>\n",
       "  </tbody>\n",
       "</table>\n",
       "<p>4533 rows × 7 columns</p>\n",
       "</div>"
      ],
      "text/plain": [
       "      Temperature  Humidity   Gas    CO   NH3       Date  PM 2.5 (ug/m3)\n",
       "0            31.0      64.0  45.0  0.34  47.0 2022-06-16               5\n",
       "1            31.0      63.0  48.0  0.59  28.0 2022-06-16               5\n",
       "2            31.0      63.0  58.0  0.34  29.0 2022-06-16               5\n",
       "3            31.0      63.0  48.0  0.68  31.0 2022-06-16               7\n",
       "4            31.0      63.0  42.0  0.32  26.0 2022-06-16               7\n",
       "...           ...       ...   ...   ...   ...        ...             ...\n",
       "4528         30.0      64.0  37.0  0.61  33.0 2022-06-17              13\n",
       "4529         30.0      64.0  38.0  0.53  18.0 2022-06-17              13\n",
       "4530         30.0      64.0  42.0  0.29  37.0 2022-06-17              13\n",
       "4531         30.0      64.0  53.0  0.22  26.0 2022-06-17              13\n",
       "4532         30.0      64.0  49.0  0.28  37.0 2022-06-17              13\n",
       "\n",
       "[4533 rows x 7 columns]"
      ]
     },
     "execution_count": 99,
     "metadata": {},
     "output_type": "execute_result"
    }
   ],
   "source": [
    "train_df"
   ]
  },
  {
   "cell_type": "code",
   "execution_count": 100,
   "metadata": {},
   "outputs": [
    {
     "name": "stdout",
     "output_type": "stream",
     "text": [
      "<class 'pandas.core.frame.DataFrame'>\n",
      "RangeIndex: 4533 entries, 0 to 4532\n",
      "Data columns (total 7 columns):\n",
      "Temperature       4527 non-null float64\n",
      "Humidity          4527 non-null float64\n",
      "Gas               4527 non-null float64\n",
      "CO                4527 non-null float64\n",
      "NH3               4527 non-null float64\n",
      "Date              4533 non-null datetime64[ns]\n",
      "PM 2.5 (ug/m3)    4533 non-null int64\n",
      "dtypes: datetime64[ns](1), float64(5), int64(1)\n",
      "memory usage: 248.0 KB\n"
     ]
    }
   ],
   "source": [
    "train_df.info()"
   ]
  },
  {
   "cell_type": "code",
   "execution_count": 104,
   "metadata": {},
   "outputs": [
    {
     "data": {
      "text/plain": [
       "Temperature       0\n",
       "Humidity          0\n",
       "Gas               0\n",
       "CO                0\n",
       "NH3               0\n",
       "Date              0\n",
       "PM 2.5 (ug/m3)    0\n",
       "dtype: int64"
      ]
     },
     "execution_count": 104,
     "metadata": {},
     "output_type": "execute_result"
    }
   ],
   "source": [
    "train_df.isnull().sum()"
   ]
  },
  {
   "cell_type": "code",
   "execution_count": 103,
   "metadata": {},
   "outputs": [],
   "source": [
    "#train_df['PM2.5'].fillna(np.mean(train_df['PM2.5']),inplace=True)\n",
    "#train_df['PM10'].fillna(np.mean(train_df['PM10']),inplace=True)\n",
    "#train_df['NO'].fillna(np.mean(train_df['NO']),inplace=True)\n",
    "#train_df['NO2'].fillna(np.mean(train_df['NO2']),inplace=True)\n",
    "#train_df['NOx'].fillna(np.mean(train_df['NOx']),inplace=True)\n",
    "train_df['NH3'].fillna(np.mean(train_df['NH3']),inplace=True)\n",
    "train_df['CO'].fillna(np.mean(train_df['CO']),inplace=True)\n",
    "#train_df['SO2'].fillna(np.mean(train_df['SO2']),inplace=True)\n",
    "#train_df['O3'].fillna(np.mean(train_df['O3']),inplace=True)\n",
    "#train_df['Benzene'].fillna(np.mean(train_df['Benzene']),inplace=True)\n",
    "#train_df['Toluene'].fillna(np.mean(train_df['Toluene']),inplace=True)\n",
    "#train_df['Xylene'].fillna(np.mean(train_df['Xylene']),inplace=True)\n",
    "#train_df['AQI'].fillna(np.mean(train_df['AQI']),inplace=True)\n",
    "train_df['Temperature'].fillna(np.mean(train_df['Temperature']),inplace=True)\n",
    "train_df['Humidity'].fillna(np.mean(train_df['Humidity']),inplace=True)\n",
    "train_df['Gas'].fillna(np.mean(train_df['Gas']),inplace=True)"
   ]
  },
  {
   "cell_type": "code",
   "execution_count": 105,
   "metadata": {},
   "outputs": [],
   "source": [
    "train_df['day']=pd.to_datetime(train_df.Date,format=\"%d-%m-%Y\").dt.day\n",
    "train_df['month']=pd.to_datetime(train_df.Date,format=\"%d-%m-%Y\").dt.month\n",
    "train_df['year']=pd.to_datetime(train_df.Date,format=\"%d-%m-%Y\").dt.year"
   ]
  },
  {
   "cell_type": "code",
   "execution_count": 106,
   "metadata": {},
   "outputs": [],
   "source": [
    "train_df.drop(['Date'],axis=1,inplace=True)"
   ]
  },
  {
   "cell_type": "code",
   "execution_count": 107,
   "metadata": {},
   "outputs": [],
   "source": [
    "train_df=train_df.round(decimals=3)"
   ]
  },
  {
   "cell_type": "code",
   "execution_count": 108,
   "metadata": {},
   "outputs": [
    {
     "data": {
      "text/html": [
       "<div>\n",
       "<style scoped>\n",
       "    .dataframe tbody tr th:only-of-type {\n",
       "        vertical-align: middle;\n",
       "    }\n",
       "\n",
       "    .dataframe tbody tr th {\n",
       "        vertical-align: top;\n",
       "    }\n",
       "\n",
       "    .dataframe thead th {\n",
       "        text-align: right;\n",
       "    }\n",
       "</style>\n",
       "<table border=\"1\" class=\"dataframe\">\n",
       "  <thead>\n",
       "    <tr style=\"text-align: right;\">\n",
       "      <th></th>\n",
       "      <th>Temperature</th>\n",
       "      <th>Humidity</th>\n",
       "      <th>Gas</th>\n",
       "      <th>CO</th>\n",
       "      <th>NH3</th>\n",
       "      <th>PM 2.5 (ug/m3)</th>\n",
       "      <th>day</th>\n",
       "      <th>month</th>\n",
       "      <th>year</th>\n",
       "    </tr>\n",
       "  </thead>\n",
       "  <tbody>\n",
       "    <tr>\n",
       "      <td>0</td>\n",
       "      <td>31.0</td>\n",
       "      <td>64.0</td>\n",
       "      <td>45.0</td>\n",
       "      <td>0.34</td>\n",
       "      <td>47.0</td>\n",
       "      <td>5</td>\n",
       "      <td>16</td>\n",
       "      <td>6</td>\n",
       "      <td>2022</td>\n",
       "    </tr>\n",
       "    <tr>\n",
       "      <td>1</td>\n",
       "      <td>31.0</td>\n",
       "      <td>63.0</td>\n",
       "      <td>48.0</td>\n",
       "      <td>0.59</td>\n",
       "      <td>28.0</td>\n",
       "      <td>5</td>\n",
       "      <td>16</td>\n",
       "      <td>6</td>\n",
       "      <td>2022</td>\n",
       "    </tr>\n",
       "    <tr>\n",
       "      <td>2</td>\n",
       "      <td>31.0</td>\n",
       "      <td>63.0</td>\n",
       "      <td>58.0</td>\n",
       "      <td>0.34</td>\n",
       "      <td>29.0</td>\n",
       "      <td>5</td>\n",
       "      <td>16</td>\n",
       "      <td>6</td>\n",
       "      <td>2022</td>\n",
       "    </tr>\n",
       "    <tr>\n",
       "      <td>3</td>\n",
       "      <td>31.0</td>\n",
       "      <td>63.0</td>\n",
       "      <td>48.0</td>\n",
       "      <td>0.68</td>\n",
       "      <td>31.0</td>\n",
       "      <td>7</td>\n",
       "      <td>16</td>\n",
       "      <td>6</td>\n",
       "      <td>2022</td>\n",
       "    </tr>\n",
       "    <tr>\n",
       "      <td>4</td>\n",
       "      <td>31.0</td>\n",
       "      <td>63.0</td>\n",
       "      <td>42.0</td>\n",
       "      <td>0.32</td>\n",
       "      <td>26.0</td>\n",
       "      <td>7</td>\n",
       "      <td>16</td>\n",
       "      <td>6</td>\n",
       "      <td>2022</td>\n",
       "    </tr>\n",
       "    <tr>\n",
       "      <td>...</td>\n",
       "      <td>...</td>\n",
       "      <td>...</td>\n",
       "      <td>...</td>\n",
       "      <td>...</td>\n",
       "      <td>...</td>\n",
       "      <td>...</td>\n",
       "      <td>...</td>\n",
       "      <td>...</td>\n",
       "      <td>...</td>\n",
       "    </tr>\n",
       "    <tr>\n",
       "      <td>4528</td>\n",
       "      <td>30.0</td>\n",
       "      <td>64.0</td>\n",
       "      <td>37.0</td>\n",
       "      <td>0.61</td>\n",
       "      <td>33.0</td>\n",
       "      <td>13</td>\n",
       "      <td>17</td>\n",
       "      <td>6</td>\n",
       "      <td>2022</td>\n",
       "    </tr>\n",
       "    <tr>\n",
       "      <td>4529</td>\n",
       "      <td>30.0</td>\n",
       "      <td>64.0</td>\n",
       "      <td>38.0</td>\n",
       "      <td>0.53</td>\n",
       "      <td>18.0</td>\n",
       "      <td>13</td>\n",
       "      <td>17</td>\n",
       "      <td>6</td>\n",
       "      <td>2022</td>\n",
       "    </tr>\n",
       "    <tr>\n",
       "      <td>4530</td>\n",
       "      <td>30.0</td>\n",
       "      <td>64.0</td>\n",
       "      <td>42.0</td>\n",
       "      <td>0.29</td>\n",
       "      <td>37.0</td>\n",
       "      <td>13</td>\n",
       "      <td>17</td>\n",
       "      <td>6</td>\n",
       "      <td>2022</td>\n",
       "    </tr>\n",
       "    <tr>\n",
       "      <td>4531</td>\n",
       "      <td>30.0</td>\n",
       "      <td>64.0</td>\n",
       "      <td>53.0</td>\n",
       "      <td>0.22</td>\n",
       "      <td>26.0</td>\n",
       "      <td>13</td>\n",
       "      <td>17</td>\n",
       "      <td>6</td>\n",
       "      <td>2022</td>\n",
       "    </tr>\n",
       "    <tr>\n",
       "      <td>4532</td>\n",
       "      <td>30.0</td>\n",
       "      <td>64.0</td>\n",
       "      <td>49.0</td>\n",
       "      <td>0.28</td>\n",
       "      <td>37.0</td>\n",
       "      <td>13</td>\n",
       "      <td>17</td>\n",
       "      <td>6</td>\n",
       "      <td>2022</td>\n",
       "    </tr>\n",
       "  </tbody>\n",
       "</table>\n",
       "<p>4533 rows × 9 columns</p>\n",
       "</div>"
      ],
      "text/plain": [
       "      Temperature  Humidity   Gas    CO   NH3  PM 2.5 (ug/m3)  day  month  \\\n",
       "0            31.0      64.0  45.0  0.34  47.0               5   16      6   \n",
       "1            31.0      63.0  48.0  0.59  28.0               5   16      6   \n",
       "2            31.0      63.0  58.0  0.34  29.0               5   16      6   \n",
       "3            31.0      63.0  48.0  0.68  31.0               7   16      6   \n",
       "4            31.0      63.0  42.0  0.32  26.0               7   16      6   \n",
       "...           ...       ...   ...   ...   ...             ...  ...    ...   \n",
       "4528         30.0      64.0  37.0  0.61  33.0              13   17      6   \n",
       "4529         30.0      64.0  38.0  0.53  18.0              13   17      6   \n",
       "4530         30.0      64.0  42.0  0.29  37.0              13   17      6   \n",
       "4531         30.0      64.0  53.0  0.22  26.0              13   17      6   \n",
       "4532         30.0      64.0  49.0  0.28  37.0              13   17      6   \n",
       "\n",
       "      year  \n",
       "0     2022  \n",
       "1     2022  \n",
       "2     2022  \n",
       "3     2022  \n",
       "4     2022  \n",
       "...    ...  \n",
       "4528  2022  \n",
       "4529  2022  \n",
       "4530  2022  \n",
       "4531  2022  \n",
       "4532  2022  \n",
       "\n",
       "[4533 rows x 9 columns]"
      ]
     },
     "execution_count": 108,
     "metadata": {},
     "output_type": "execute_result"
    }
   ],
   "source": [
    "train_df"
   ]
  },
  {
   "cell_type": "code",
   "execution_count": 109,
   "metadata": {},
   "outputs": [
    {
     "data": {
      "text/plain": [
       "Index(['Temperature', 'Humidity', 'Gas', 'CO', 'NH3', 'PM 2.5 (ug/m3)', 'day',\n",
       "       'month', 'year'],\n",
       "      dtype='object')"
      ]
     },
     "execution_count": 109,
     "metadata": {},
     "output_type": "execute_result"
    }
   ],
   "source": [
    "train_df.columns"
   ]
  },
  {
   "cell_type": "code",
   "execution_count": 110,
   "metadata": {},
   "outputs": [],
   "source": [
    "X = train_df[[ 'Temperature', 'Humidity', 'Gas', 'CO', 'NH3','day','month', 'year']]\n",
    "y = train_df['PM 2.5 (ug/m3)']"
   ]
  },
  {
   "cell_type": "code",
   "execution_count": 111,
   "metadata": {},
   "outputs": [
    {
     "data": {
      "text/plain": [
       "(      Temperature  Humidity   Gas    CO   NH3  day  month  year\n",
       " 0            31.0      64.0  45.0  0.34  47.0   16      6  2022\n",
       " 1            31.0      63.0  48.0  0.59  28.0   16      6  2022\n",
       " 2            31.0      63.0  58.0  0.34  29.0   16      6  2022\n",
       " 3            31.0      63.0  48.0  0.68  31.0   16      6  2022\n",
       " 4            31.0      63.0  42.0  0.32  26.0   16      6  2022\n",
       " ...           ...       ...   ...   ...   ...  ...    ...   ...\n",
       " 4528         30.0      64.0  37.0  0.61  33.0   17      6  2022\n",
       " 4529         30.0      64.0  38.0  0.53  18.0   17      6  2022\n",
       " 4530         30.0      64.0  42.0  0.29  37.0   17      6  2022\n",
       " 4531         30.0      64.0  53.0  0.22  26.0   17      6  2022\n",
       " 4532         30.0      64.0  49.0  0.28  37.0   17      6  2022\n",
       " \n",
       " [4533 rows x 8 columns], 0        5\n",
       " 1        5\n",
       " 2        5\n",
       " 3        7\n",
       " 4        7\n",
       "         ..\n",
       " 4528    13\n",
       " 4529    13\n",
       " 4530    13\n",
       " 4531    13\n",
       " 4532    13\n",
       " Name: PM 2.5 (ug/m3), Length: 4533, dtype: int64)"
      ]
     },
     "execution_count": 111,
     "metadata": {},
     "output_type": "execute_result"
    }
   ],
   "source": [
    "X,y"
   ]
  },
  {
   "cell_type": "code",
   "execution_count": 112,
   "metadata": {},
   "outputs": [],
   "source": [
    "from sklearn.model_selection import train_test_split\n",
    "X_train, X_test, y_train, y_test = train_test_split(X, y, test_size=0.35, random_state=0)"
   ]
  },
  {
   "cell_type": "code",
   "execution_count": 113,
   "metadata": {},
   "outputs": [
    {
     "data": {
      "text/plain": [
       "RandomForestRegressor(bootstrap=True, criterion='mse', max_depth=None,\n",
       "           max_features='auto', max_leaf_nodes=None,\n",
       "           min_impurity_decrease=0.0, min_impurity_split=None,\n",
       "           min_samples_leaf=1, min_samples_split=2,\n",
       "           min_weight_fraction_leaf=0.0, n_estimators=150, n_jobs=None,\n",
       "           oob_score=False, random_state=0, verbose=0, warm_start=False)"
      ]
     },
     "execution_count": 113,
     "metadata": {},
     "output_type": "execute_result"
    }
   ],
   "source": [
    "from sklearn.ensemble import RandomForestRegressor\n",
    "rfc = RandomForestRegressor(n_estimators = 150,random_state = 0)\n",
    "rfc.fit(X_train, y_train)"
   ]
  },
  {
   "cell_type": "code",
   "execution_count": 114,
   "metadata": {},
   "outputs": [
    {
     "name": "stdout",
     "output_type": "stream",
     "text": [
      "0.20611069938535165\n",
      "15.653508959348082\n"
     ]
    }
   ],
   "source": [
    "import math\n",
    "y_pred = rfc.predict(X_test)\n",
    "y_pred=y_pred.round(decimals=3)\n",
    "from sklearn.metrics import r2_score,mean_squared_error\n",
    "print(r2_score(y_test,y_pred))\n",
    "print(math.sqrt(mean_squared_error(np.array(y_test),y_pred)))"
   ]
  },
  {
   "cell_type": "code",
   "execution_count": 115,
   "metadata": {},
   "outputs": [
    {
     "data": {
      "text/plain": [
       "array([32, 36, 66, ..., 12, 14, 27], dtype=int64)"
      ]
     },
     "execution_count": 115,
     "metadata": {},
     "output_type": "execute_result"
    }
   ],
   "source": [
    "np.array(y_test)"
   ]
  },
  {
   "cell_type": "code",
   "execution_count": 116,
   "metadata": {},
   "outputs": [
    {
     "name": "stdout",
     "output_type": "stream",
     "text": [
      "[24.896 25.96  47.736 ... 14.293 14.266 23.628]\n"
     ]
    }
   ],
   "source": [
    "print(y_pred)"
   ]
  },
  {
   "cell_type": "code",
   "execution_count": 117,
   "metadata": {},
   "outputs": [],
   "source": [
    "def air_condition(pm_conc):\n",
    "    if pm_conc<=12.0:\n",
    "        print(\"AQI level is Between 0 to 50\")\n",
    "        print(\"Good Weather Conditions\")\n",
    "    elif pm_conc>12.1 and pm_conc<=35.4:\n",
    "        print(\"AQI level is Between 51 to 100\")\n",
    "        print(\"Moderate Weather Conditions\")\n",
    "    elif pm_conc>35.5 and pm_conc<=55.4:\n",
    "        print(\"AQI level is Between 101 to 150\")\n",
    "        print(\"Unhealthy Weather Conditions for Older Age Groups\")\n",
    "    elif pm_conc>55.5 and pm_conc<=150.4:\n",
    "        print(\"AQI level is Between 151 to 200\")\n",
    "        print(\"Unhealthy Weather Conditions\")\n",
    "    elif pm_conc>150.5 and pm_conc<=250.4:\n",
    "        print(\"AQI level is Between 201 to 300\")\n",
    "        print(\"Very Unhealthy Weather Conditions\")\n",
    "    else:\n",
    "        print(\"AQI level is Above 300\")\n",
    "        print(\"Hazardous Weather Conditions\")"
   ]
  },
  {
   "cell_type": "code",
   "execution_count": null,
   "metadata": {},
   "outputs": [],
   "source": []
  }
 ],
 "metadata": {
  "kernelspec": {
   "display_name": "Python 3",
   "language": "python",
   "name": "python3"
  },
  "language_info": {
   "codemirror_mode": {
    "name": "ipython",
    "version": 3
   },
   "file_extension": ".py",
   "mimetype": "text/x-python",
   "name": "python",
   "nbconvert_exporter": "python",
   "pygments_lexer": "ipython3",
   "version": "3.7.1"
  }
 },
 "nbformat": 4,
 "nbformat_minor": 2
}
