{
 "cells": [
  {
   "cell_type": "markdown",
   "metadata": {},
   "source": [
    "# Loading the data"
   ]
  },
  {
   "cell_type": "code",
   "execution_count": 125,
   "metadata": {},
   "outputs": [],
   "source": [
    "import pandas as pd\n",
    "import numpy as np\n",
    "\n",
    "df = pd.read_excel('mysore_city_data.xlsx')\n",
    "df['day']=pd.to_datetime(df.Date,format=\"%Y-%m-%d\").dt.day\n",
    "df['month']=pd.to_datetime(df.Date,format=\"%Y-%m-%d\").dt.month\n",
    "df['year']=pd.to_datetime(df.Date,format=\"%Y-%m-%d\").dt.year\n",
    "\n",
    "df.drop(['Date'],axis=1,inplace=True)"
   ]
  },
  {
   "cell_type": "code",
   "execution_count": 126,
   "metadata": {},
   "outputs": [
    {
     "name": "stdout",
     "output_type": "stream",
     "text": [
      "      Temperature  Humidity        Gas        CO   NH3  PM 2.5 (ug/m3)  PM10  \\\n",
      "0            31.0      64.0  45.000000  0.340000  47.0        5.000000     3   \n",
      "1            31.0      63.0  48.000000  0.590000  28.0        5.000000     3   \n",
      "2            31.0      63.0  58.000000  0.340000  29.0        5.000000     3   \n",
      "3            31.0      63.0  48.000000  0.680000  31.0        7.000000     4   \n",
      "4            31.0      63.0  42.000000  0.320000  26.0        7.000000     4   \n",
      "...           ...       ...        ...       ...   ...             ...   ...   \n",
      "4529         30.0      64.0  38.000000  0.530000  18.0       13.000000    10   \n",
      "4530         30.0      64.0  42.000000  0.290000  37.0       13.000000    10   \n",
      "4531         30.0      64.0  53.000000  0.220000  26.0       13.000000    10   \n",
      "4532         30.0      64.0  49.000000  0.280000  37.0       13.000000    10   \n",
      "4533         30.0      64.0  46.306294  0.444436  37.0       22.536731    10   \n",
      "\n",
      "      day  month  year  \n",
      "0      16      6  2022  \n",
      "1      16      6  2022  \n",
      "2      16      6  2022  \n",
      "3      16      6  2022  \n",
      "4      16      6  2022  \n",
      "...   ...    ...   ...  \n",
      "4529   17      6  2022  \n",
      "4530   17      6  2022  \n",
      "4531   17      6  2022  \n",
      "4532   17      6  2022  \n",
      "4533   17      6  2022  \n",
      "\n",
      "[4534 rows x 10 columns]\n"
     ]
    }
   ],
   "source": [
    "print(df)"
   ]
  },
  {
   "cell_type": "markdown",
   "metadata": {},
   "source": [
    "# Just handling the missing values and not outliers"
   ]
  },
  {
   "cell_type": "code",
   "execution_count": 127,
   "metadata": {},
   "outputs": [],
   "source": [
    "def fill_mean(data):#replacing null fields with the mean value of the respective filed\n",
    "    null_fields = data.isna().sum()\n",
    "    col = data.columns #storing the column names\n",
    "    x = 0\n",
    "    for i in null_fields:\n",
    "        if i != 0:\n",
    "            data = data.fillna({col[x]:data[col[x]].mean()})# replaces null field with mean of column values\n",
    "        x += 1     \n",
    "    return data\n",
    "\n",
    "df = fill_mean(df)"
   ]
  },
  {
   "cell_type": "code",
   "execution_count": null,
   "metadata": {},
   "outputs": [],
   "source": []
  },
  {
   "cell_type": "markdown",
   "metadata": {},
   "source": [
    "# Handling outliers"
   ]
  },
  {
   "cell_type": "code",
   "execution_count": 128,
   "metadata": {},
   "outputs": [],
   "source": [
    "import pandas as pd\n",
    "import numpy as np\n",
    "\n",
    "## handling outliers\n",
    "\n",
    "def detect_outliers_iqr(data):\n",
    "    outliers = []\n",
    "    data = sorted(data)\n",
    "    q1 = np.percentile(data, 25)\n",
    "    q3 = np.percentile(data, 75)\n",
    "    IQR = q3-q1\n",
    "    lwr_bound = q1-(1.5*IQR)\n",
    "    upr_bound = q3+(1.5*IQR)\n",
    "    for i in data: \n",
    "        if (i<lwr_bound or i>upr_bound):\n",
    "            outliers.append(i)\n",
    "    return outliers\n",
    "\n",
    "def collect_outliers_iqr(data):\n",
    "    outliers_detected_iqr = {}\n",
    "    for i in data.columns:\n",
    "        outliers = detect_outliers_iqr(data[i])\n",
    "        outliers_detected_iqr[i] = outliers\n",
    "    return outliers_detected_iqr\n",
    "\n",
    "\n",
    "def floor_clapp_outliers(data, outliers):\n",
    "    for i, j in outliers.items():\n",
    "        if len(outliers[i]) != 0:\n",
    "            IQR = data[i].quantile(0.75) - data[i].quantile(0.25)\n",
    "            lower_bridge = data[i].quantile(0.25) - (IQR*1.5)\n",
    "            upper_bridge = data[i].quantile(0.75) + (IQR*1.5)\n",
    "            data.loc[data[i] > upper_bridge, i] = upper_bridge\n",
    "            data.loc[data[i] < lower_bridge, i] = lower_bridge\n",
    "    return data\n",
    "\n",
    "outliers = collect_outliers_iqr(df)\n",
    "df = floor_clapp_outliers(df, outliers)"
   ]
  },
  {
   "cell_type": "code",
   "execution_count": 129,
   "metadata": {},
   "outputs": [
    {
     "data": {
      "text/plain": [
       "Index(['Temperature', 'Humidity', 'Gas', 'CO', 'NH3', 'PM 2.5 (ug/m3)', 'PM10',\n",
       "       'day', 'month', 'year'],\n",
       "      dtype='object')"
      ]
     },
     "execution_count": 129,
     "metadata": {},
     "output_type": "execute_result"
    }
   ],
   "source": [
    "df.columns"
   ]
  },
  {
   "cell_type": "markdown",
   "metadata": {},
   "source": [
    "# Separating the independent and dependent variables(features)"
   ]
  },
  {
   "cell_type": "code",
   "execution_count": 130,
   "metadata": {},
   "outputs": [],
   "source": [
    "X = df[['Temperature', 'Humidity', 'Gas', 'CO', 'NH3','PM10', 'day',\n",
    "       'month', 'year']]\n",
    "y = df['PM 2.5 (ug/m3)']"
   ]
  },
  {
   "cell_type": "code",
   "execution_count": null,
   "metadata": {},
   "outputs": [],
   "source": []
  },
  {
   "cell_type": "markdown",
   "metadata": {},
   "source": [
    "# Splitting the data into training and testing parts, 65% of the dataset will be used for training the model, whereas 35% dataset will be used for testing the accuracy of the model."
   ]
  },
  {
   "cell_type": "code",
   "execution_count": 131,
   "metadata": {},
   "outputs": [
    {
     "name": "stdout",
     "output_type": "stream",
     "text": [
      "X_train :  (2947, 9)  X_test :  (1587, 9)\n",
      "y_train :  (2947,)     y_test :  (1587,)\n"
     ]
    }
   ],
   "source": [
    "from sklearn.model_selection import train_test_split\n",
    "\n",
    "X_train, X_test, y_train, y_test = train_test_split(X, y, test_size=0.35, random_state=0)\n",
    "\n",
    "print('X_train : ',X_train.shape,' X_test : ',X_test.shape)\n",
    "print('y_train : ',y_train.shape,'    y_test : ',y_test.shape)"
   ]
  },
  {
   "cell_type": "code",
   "execution_count": null,
   "metadata": {},
   "outputs": [],
   "source": []
  },
  {
   "cell_type": "markdown",
   "metadata": {},
   "source": [
    "# Testing with different regression models"
   ]
  },
  {
   "cell_type": "code",
   "execution_count": 132,
   "metadata": {},
   "outputs": [],
   "source": [
    "from sklearn.metrics import r2_score,mean_squared_error,mean_absolute_error\n",
    "from sklearn.model_selection import GridSearchCV\n",
    "import math\n",
    "scores = {}"
   ]
  },
  {
   "cell_type": "code",
   "execution_count": null,
   "metadata": {},
   "outputs": [],
   "source": []
  },
  {
   "cell_type": "markdown",
   "metadata": {},
   "source": [
    "## 1. Using Linear Regression"
   ]
  },
  {
   "cell_type": "code",
   "execution_count": null,
   "metadata": {},
   "outputs": [],
   "source": []
  },
  {
   "cell_type": "markdown",
   "metadata": {},
   "source": [
    "## 2. Using Ridge Regression"
   ]
  },
  {
   "cell_type": "code",
   "execution_count": 133,
   "metadata": {},
   "outputs": [
    {
     "name": "stderr",
     "output_type": "stream",
     "text": [
      "C:\\Users\\Rituraj\\Anaconda3\\lib\\site-packages\\sklearn\\linear_model\\ridge.py:125: LinAlgWarning: scipy.linalg.solve\n",
      "Ill-conditioned matrix detected. Result is not guaranteed to be accurate.\n",
      "Reciprocal condition number5.015975e-21\n",
      "  overwrite_a=True).T\n",
      "C:\\Users\\Rituraj\\Anaconda3\\lib\\site-packages\\sklearn\\linear_model\\ridge.py:125: LinAlgWarning: scipy.linalg.solve\n",
      "Ill-conditioned matrix detected. Result is not guaranteed to be accurate.\n",
      "Reciprocal condition number4.994785e-21\n",
      "  overwrite_a=True).T\n",
      "C:\\Users\\Rituraj\\Anaconda3\\lib\\site-packages\\sklearn\\linear_model\\ridge.py:125: LinAlgWarning: scipy.linalg.solve\n",
      "Ill-conditioned matrix detected. Result is not guaranteed to be accurate.\n",
      "Reciprocal condition number4.881741e-21\n",
      "  overwrite_a=True).T\n",
      "C:\\Users\\Rituraj\\Anaconda3\\lib\\site-packages\\sklearn\\linear_model\\ridge.py:125: LinAlgWarning: scipy.linalg.solve\n",
      "Ill-conditioned matrix detected. Result is not guaranteed to be accurate.\n",
      "Reciprocal condition number4.917357e-21\n",
      "  overwrite_a=True).T\n",
      "C:\\Users\\Rituraj\\Anaconda3\\lib\\site-packages\\sklearn\\linear_model\\ridge.py:125: LinAlgWarning: scipy.linalg.solve\n",
      "Ill-conditioned matrix detected. Result is not guaranteed to be accurate.\n",
      "Reciprocal condition number4.946672e-21\n",
      "  overwrite_a=True).T\n"
     ]
    },
    {
     "name": "stdout",
     "output_type": "stream",
     "text": [
      "Ridge Regression_________________________\n",
      "\n",
      "R2 score            :  0.9475918965186101\n",
      "mean Absolute Error :  2.189535070640946\n",
      "Accuracy            :  94.76 %\n",
      "-----------------------------------------\n",
      "Wall time: 539 ms\n"
     ]
    }
   ],
   "source": [
    "%%time\n",
    "\n",
    "from sklearn.linear_model import Ridge\n",
    "\n",
    "ridge=Ridge()\n",
    "parameters={'alpha':[1e-15,1e-10,1e-8,1e-3,1e-2,1,5,10,20,30,35,40,45,50,55,100]}\n",
    "ridge_regressor=GridSearchCV(ridge,parameters,scoring='neg_mean_squared_error',cv=5)\n",
    "ridge_regressor.fit(X_train,y_train)\n",
    "y_pred = ridge_regressor.predict(X_test)\n",
    "\n",
    "scores['RidgeRegression '] = round((r2_score(y_test,y_pred)*100),2)\n",
    "\n",
    "print(\"Ridge Regression_________________________\")\n",
    "print()\n",
    "print('R2 score            : ',r2_score(y_test,y_pred))\n",
    "print('mean Absolute Error : ',math.sqrt(mean_squared_error(np.array(y_test),y_pred)))\n",
    "print(\"Accuracy            :  {:.2f}\".format(r2_score(y_test,y_pred)*100),\"%\")\n",
    "print('-----------------------------------------')"
   ]
  },
  {
   "cell_type": "code",
   "execution_count": null,
   "metadata": {},
   "outputs": [],
   "source": []
  },
  {
   "cell_type": "markdown",
   "metadata": {},
   "source": [
    "## 4. Using Decision Tree Regression"
   ]
  },
  {
   "cell_type": "code",
   "execution_count": 134,
   "metadata": {},
   "outputs": [
    {
     "name": "stdout",
     "output_type": "stream",
     "text": [
      "Decision Tree Regression_________________\n",
      "\n",
      "R2 score            :  0.9192855404146786\n",
      "mean Absolute Error :  2.7172422299229497\n",
      "Accuracy            :  91.93 %\n",
      "-----------------------------------------\n",
      "Wall time: 7.98 ms\n"
     ]
    }
   ],
   "source": [
    "%%time\n",
    "\n",
    "from sklearn.tree import DecisionTreeRegressor\n",
    "\n",
    "dt = DecisionTreeRegressor(max_depth=4, min_samples_leaf=0.1, random_state=3)\n",
    "dt.fit(X_train,y_train)\n",
    "y_pred = dt.predict(X_test)\n",
    "       \n",
    "scores['DecisionTreeReg.'] = round((r2_score(y_test,y_pred)*100),2)\n",
    "\n",
    "print(\"Decision Tree Regression_________________\")\n",
    "print()\n",
    "print('R2 score            : ',r2_score(y_test,y_pred))\n",
    "print('mean Absolute Error : ',math.sqrt(mean_squared_error(np.array(y_test),y_pred)))\n",
    "print(\"Accuracy            :  {:.2f}\".format(r2_score(y_test,y_pred)*100),\"%\")\n",
    "print('-----------------------------------------')"
   ]
  },
  {
   "cell_type": "code",
   "execution_count": null,
   "metadata": {},
   "outputs": [],
   "source": []
  },
  {
   "cell_type": "markdown",
   "metadata": {},
   "source": [
    "## 5. Using Random Forest"
   ]
  },
  {
   "cell_type": "code",
   "execution_count": 135,
   "metadata": {},
   "outputs": [
    {
     "name": "stdout",
     "output_type": "stream",
     "text": [
      "Random Forest Regression_________________\n",
      "\n",
      "R2 score            :  0.9681089121069325\n",
      "mean Absolute Error :  1.7079979736548776\n",
      "Accuracy            :  96.81 %\n",
      "-----------------------------------------\n",
      "Wall time: 983 ms\n"
     ]
    }
   ],
   "source": [
    "%%time\n",
    "\n",
    "from sklearn.ensemble import RandomForestRegressor\n",
    "\n",
    "rfc = RandomForestRegressor(n_estimators = 150,random_state = 0)\n",
    "rfc.fit(X_train, y_train)\n",
    "y_pred = rfc.predict(X_test)\n",
    "y_pred=y_pred.round(decimals=3)\n",
    "\n",
    "scores['RandomForestReg.'] = round((r2_score(y_test,y_pred)*100),2)\n",
    "\n",
    "print(\"Random Forest Regression_________________\")\n",
    "print()\n",
    "print('R2 score            : ',r2_score(y_test,y_pred))\n",
    "print('mean Absolute Error : ',math.sqrt(mean_squared_error(np.array(y_test),y_pred)))\n",
    "print(\"Accuracy            :  {:.2f}\".format(r2_score(y_test,y_pred)*100),\"%\")\n",
    "print('-----------------------------------------')"
   ]
  },
  {
   "cell_type": "code",
   "execution_count": null,
   "metadata": {},
   "outputs": [],
   "source": []
  },
  {
   "cell_type": "markdown",
   "metadata": {},
   "source": [
    "## 6. Using K Nearest Neighbour (KNN)"
   ]
  },
  {
   "cell_type": "code",
   "execution_count": 136,
   "metadata": {},
   "outputs": [
    {
     "name": "stdout",
     "output_type": "stream",
     "text": [
      "K Nearest Neighbour Regression___________\n",
      "\n",
      "R2 score            :  0.9503023624934277\n",
      "mean Absolute Error :  2.1321637522919703\n",
      "Accuracy            :  95.03 %\n",
      "-----------------------------------------\n",
      "Wall time: 1.03 s\n"
     ]
    }
   ],
   "source": [
    "%%time\n",
    "\n",
    "from sklearn import neighbors\n",
    "from math import sqrt\n",
    "\n",
    "params = {'n_neighbors':[2,3,4,5,6,7,8,9]}\n",
    "knn = neighbors.KNeighborsRegressor()\n",
    "model = GridSearchCV(knn, params, cv=5)\n",
    "model.fit(X_train,y_train)\n",
    "N = model.best_params_\n",
    "N = N['n_neighbors']\n",
    "model = neighbors.KNeighborsRegressor(n_neighbors = N)\n",
    "model.fit(X_train, y_train)\n",
    "y_pred=model.predict(X_test)\n",
    "        \n",
    "scores['KNNregression   '] = round((r2_score(y_test,y_pred)*100),2)\n",
    "\n",
    "print(\"K Nearest Neighbour Regression___________\")\n",
    "print()\n",
    "print('R2 score            : ',r2_score(y_test,y_pred))\n",
    "print('mean Absolute Error : ',math.sqrt(mean_squared_error(np.array(y_test),y_pred)))\n",
    "print(\"Accuracy            :  {:.2f}\".format(r2_score(y_test,y_pred)*100),\"%\")\n",
    "print('-----------------------------------------')"
   ]
  },
  {
   "cell_type": "code",
   "execution_count": null,
   "metadata": {},
   "outputs": [],
   "source": []
  },
  {
   "cell_type": "markdown",
   "metadata": {},
   "source": [
    "# All Scores in different models"
   ]
  },
  {
   "cell_type": "code",
   "execution_count": 137,
   "metadata": {},
   "outputs": [
    {
     "name": "stdout",
     "output_type": "stream",
     "text": [
      "     Model               Accuracy\n",
      "\n",
      "1 .  RidgeRegression  -> 94.76 %\n",
      "\n",
      "2 .  DecisionTreeReg. -> 91.93 %\n",
      "\n",
      "3 .  RandomForestReg. -> 96.81 %\n",
      "\n",
      "4 .  KNNregression    -> 95.03 %\n",
      "\n"
     ]
    }
   ],
   "source": [
    "count = 0\n",
    "print('     Model               Accuracy')\n",
    "print()\n",
    "for i,j in scores.items():\n",
    "    count +=1\n",
    "    print(count,'. ',i,'->',j,'%')\n",
    "    print()"
   ]
  },
  {
   "cell_type": "markdown",
   "metadata": {},
   "source": [
    "### From above, we can conclude that for this project's requirement, Random Forest Regression (accuracy of 83 % ) is best suited."
   ]
  },
  {
   "cell_type": "code",
   "execution_count": null,
   "metadata": {},
   "outputs": [],
   "source": []
  },
  {
   "cell_type": "code",
   "execution_count": 138,
   "metadata": {},
   "outputs": [
    {
     "data": {
      "text/plain": [
       "{'RidgeRegression ': 94.76,\n",
       " 'DecisionTreeReg.': 91.93,\n",
       " 'RandomForestReg.': 96.81,\n",
       " 'KNNregression   ': 95.03}"
      ]
     },
     "execution_count": 138,
     "metadata": {},
     "output_type": "execute_result"
    }
   ],
   "source": [
    "## scores dictionary (without outlier handling)\n",
    "scores"
   ]
  },
  {
   "cell_type": "code",
   "execution_count": 139,
   "metadata": {},
   "outputs": [
    {
     "data": {
      "text/plain": [
       "{'RidgeRegression ': 94.76,\n",
       " 'DecisionTreeReg.': 91.93,\n",
       " 'RandomForestReg.': 96.81,\n",
       " 'KNNregression   ': 95.03}"
      ]
     },
     "execution_count": 139,
     "metadata": {},
     "output_type": "execute_result"
    }
   ],
   "source": [
    "## scores dictionary (with outlier handling)\n",
    "scores"
   ]
  },
  {
   "cell_type": "code",
   "execution_count": null,
   "metadata": {},
   "outputs": [],
   "source": []
  }
 ],
 "metadata": {
  "kernelspec": {
   "display_name": "Python 3",
   "language": "python",
   "name": "python3"
  },
  "language_info": {
   "codemirror_mode": {
    "name": "ipython",
    "version": 3
   },
   "file_extension": ".py",
   "mimetype": "text/x-python",
   "name": "python",
   "nbconvert_exporter": "python",
   "pygments_lexer": "ipython3",
   "version": "3.7.1"
  }
 },
 "nbformat": 4,
 "nbformat_minor": 5
}
